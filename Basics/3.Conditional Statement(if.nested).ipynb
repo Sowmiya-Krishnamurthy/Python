{
 "cells": [
  {
   "cell_type": "code",
   "execution_count": 2,
   "id": "5b4becb9",
   "metadata": {},
   "outputs": [
    {
     "name": "stdout",
     "output_type": "stream",
     "text": [
      "Enter a Number10\n",
      "Given number is less than 12 and you are fine to move\n"
     ]
    }
   ],
   "source": [
    "#if statement\n",
    "a=int(input(\"Enter a Number\"))\n",
    "if a<12:\n",
    "    print(\"Given number is less than 12 and you are fine to move\")"
   ]
  },
  {
   "cell_type": "code",
   "execution_count": 18,
   "id": "d8d4cc3c",
   "metadata": {},
   "outputs": [
    {
     "name": "stdout",
     "output_type": "stream",
     "text": [
      "Enter a Number9\n"
     ]
    }
   ],
   "source": [
    "a=int(input(\"Enter a Number\"))\n",
    "if a<12:\n",
    "    pass"
   ]
  },
  {
   "cell_type": "code",
   "execution_count": 17,
   "id": "2997ed15",
   "metadata": {},
   "outputs": [
    {
     "name": "stdout",
     "output_type": "stream",
     "text": [
      "Enter a Number11\n",
      "Given number is less than 12 and you are fine to move\n"
     ]
    }
   ],
   "source": [
    "#Indentation is important\n",
    "#if else statement\n",
    "a=int(input(\"Enter a Number\"))\n",
    "if a<12:\n",
    "    print(\"Given number is less than 12 and you are fine to move\")\n",
    "else:\n",
    "    print(\"Given number is greater than 12 hence you are stop here\")"
   ]
  },
  {
   "cell_type": "code",
   "execution_count": 4,
   "id": "250db280",
   "metadata": {},
   "outputs": [
    {
     "name": "stdout",
     "output_type": "stream",
     "text": [
      "Enter a Number13\n",
      "Given number is less than 25\n"
     ]
    }
   ],
   "source": [
    "#Indentation is important\n",
    "a=int(input(\"Enter a Number\"))\n",
    "if a<12:\n",
    "    print(\"Given number is less than 12 and you are fine to move\")\n",
    "elif a<25:\n",
    "    print(\"Given number is less than 25\")\n",
    "else:\n",
    "    print(\"Given number is greater than 25 hence you are stop here\")"
   ]
  },
  {
   "cell_type": "code",
   "execution_count": 5,
   "id": "ef4729de",
   "metadata": {},
   "outputs": [
    {
     "name": "stdout",
     "output_type": "stream",
     "text": [
      "Enter your Salary :1500\n",
      "I will go for savings\n"
     ]
    }
   ],
   "source": [
    "Salary=int(input(\"Enter your Salary :\"))\n",
    "if Salary<1000:\n",
    "    print(\"I will buy a car\")\n",
    "elif Salary<500:\n",
    "    print(\"I will buy a bike\")\n",
    "elif Salary<100:\n",
    "    print(\"I will buy nothing\")\n",
    "else:\n",
    "    print(\"I will go for savings\")"
   ]
  },
  {
   "cell_type": "code",
   "execution_count": 6,
   "id": "6ee3cdba",
   "metadata": {},
   "outputs": [
    {
     "name": "stdout",
     "output_type": "stream",
     "text": [
      "Enter your Salary :550\n",
      "I will buy a car\n"
     ]
    }
   ],
   "source": [
    "Salary=int(input(\"Enter your Salary :\"))\n",
    "if Salary<1000:\n",
    "    print(\"I will buy a car\")\n",
    "elif Salary<500:\n",
    "    print(\"I will buy a bike\")\n",
    "elif Salary<100:\n",
    "    print(\"I will buy nothing\")\n",
    "else:\n",
    "    print(\"I will go for savings\")"
   ]
  },
  {
   "cell_type": "code",
   "execution_count": 7,
   "id": "623c13d7",
   "metadata": {},
   "outputs": [
    {
     "name": "stdout",
     "output_type": "stream",
     "text": [
      "Enter your Salary :10\n",
      "I will buy a car\n"
     ]
    }
   ],
   "source": [
    "Salary=int(input(\"Enter your Salary :\"))\n",
    "if Salary<1000:\n",
    "    print(\"I will buy a car\")\n",
    "elif Salary<500:\n",
    "    print(\"I will buy a bike\")\n",
    "elif Salary<100:\n",
    "    print(\"I will buy nothing\")\n",
    "else:\n",
    "    print(\"I will go for savings\")"
   ]
  },
  {
   "cell_type": "code",
   "execution_count": 12,
   "id": "e2122915",
   "metadata": {},
   "outputs": [
    {
     "name": "stdout",
     "output_type": "stream",
     "text": [
      "Enter your Salary :56\n",
      "I will go for savings\n"
     ]
    }
   ],
   "source": [
    "Salary=int(input(\"Enter your Salary :\"))\n",
    "#Brackets are also allowed to use if(Salary>1000)\n",
    "if Salary>1000:\n",
    "    print(\"I will buy a car\")\n",
    "elif Salary>500:\n",
    "    print(\"I will buy a bike\")\n",
    "elif Salary>100:\n",
    "    print(\"I will buy nothing\")\n",
    "else:\n",
    "    print(\"I will go for savings\")"
   ]
  },
  {
   "cell_type": "code",
   "execution_count": 15,
   "id": "afa016e5",
   "metadata": {},
   "outputs": [
    {
     "name": "stdout",
     "output_type": "stream",
     "text": [
      "Enter your Salary :35000\n",
      "I will buy a car\n",
      "I go for a Suzuki Car\n"
     ]
    }
   ],
   "source": [
    "#nested if statement\n",
    "Salary=int(input(\"Enter your Salary :\"))\n",
    "if Salary>1000:\n",
    "    print(\"I will buy a car\")\n",
    "    if Salary>5000:\n",
    "        print(\"I go for a Suzuki Car\")\n",
    "    elif Salary>10000:\n",
    "        print(\"I go for a Maruti Car\")\n",
    "    elif Salary>20000:\n",
    "        print(\"I go for a Audi Car\")\n",
    "    else:\n",
    "        print(\"I rent a car\")\n",
    "elif Salary>500:\n",
    "    print(\"I will buy a bike\")\n",
    "elif Salary>100:\n",
    "    print(\"I will buy nothing\")\n",
    "else:\n",
    "    print(\"I will go for savings\")"
   ]
  },
  {
   "cell_type": "code",
   "execution_count": 19,
   "id": "048adc8d",
   "metadata": {},
   "outputs": [
    {
     "data": {
      "text/plain": [
       "'\\njhfio\\nkjv\\nidfoi'"
      ]
     },
     "execution_count": 19,
     "metadata": {},
     "output_type": "execute_result"
    }
   ],
   "source": [
    "\"\"\"\n",
    "jhfio\n",
    "kjv\n",
    "idfoi\n",
    "\"\"\""
   ]
  },
  {
   "cell_type": "code",
   "execution_count": 20,
   "id": "5edbc5ae",
   "metadata": {},
   "outputs": [
    {
     "data": {
      "text/plain": [
       "'\\nPrint(\"10\"\\nPrint(\"10\")\\nPrint(\"10\")\\n'"
      ]
     },
     "execution_count": 20,
     "metadata": {},
     "output_type": "execute_result"
    }
   ],
   "source": [
    "\"\"\"\n",
    "Print(\"10\"\n",
    "Print(\"10\")\n",
    "Print(\"10\")\n",
    "\"\"\""
   ]
  },
  {
   "cell_type": "code",
   "execution_count": 1,
   "id": "b5197d9c",
   "metadata": {},
   "outputs": [
    {
     "name": "stdout",
     "output_type": "stream",
     "text": [
      "Sowmi\n"
     ]
    }
   ],
   "source": [
    "\"\"\"\n",
    "Print(\"10\"\n",
    "Print(\"10\")\n",
    "Print(\"10\")\n",
    "\"\"\"\n",
    "print(\"Sowmi\")"
   ]
  },
  {
   "cell_type": "code",
   "execution_count": null,
   "id": "674023d2",
   "metadata": {},
   "outputs": [],
   "source": []
  }
 ],
 "metadata": {
  "kernelspec": {
   "display_name": "Python 3 (ipykernel)",
   "language": "python",
   "name": "python3"
  },
  "language_info": {
   "codemirror_mode": {
    "name": "ipython",
    "version": 3
   },
   "file_extension": ".py",
   "mimetype": "text/x-python",
   "name": "python",
   "nbconvert_exporter": "python",
   "pygments_lexer": "ipython3",
   "version": "3.9.12"
  }
 },
 "nbformat": 4,
 "nbformat_minor": 5
}
